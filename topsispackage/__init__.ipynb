{
 "cells": [
  {
   "cell_type": "code",
   "execution_count": 1,
   "metadata": {},
   "outputs": [],
   "source": [
    "import pandas as pd\n",
    "import numpy as np\n",
    "import sys"
   ]
  },
  {
   "cell_type": "code",
   "execution_count": 2,
   "metadata": {},
   "outputs": [
    {
     "name": "stdout",
     "output_type": "stream",
     "text": [
      "Usage: python <program.py> <InputDataFile> <Weights> <Impacts> <ResultFileName>\n"
     ]
    },
    {
     "ename": "SystemExit",
     "evalue": "1",
     "output_type": "error",
     "traceback": [
      "An exception has occurred, use %tb to see the full traceback.\n",
      "\u001b[1;31mSystemExit\u001b[0m\u001b[1;31m:\u001b[0m 1\n"
     ]
    },
    {
     "name": "stderr",
     "output_type": "stream",
     "text": [
      "C:\\Users\\sanja\\AppData\\Roaming\\Python\\Python311\\site-packages\\IPython\\core\\interactiveshell.py:3513: UserWarning: To exit: use 'exit', 'quit', or Ctrl-D.\n",
      "  warn(\"To exit: use 'exit', 'quit', or Ctrl-D.\", stacklevel=1)\n"
     ]
    }
   ],
   "source": [
    "\n",
    "def check_input_parameters():\n",
    "    if len(sys.argv) != 5:\n",
    "        print(\"Usage: python <program.py> <InputDataFile> <Weights> <Impacts> <ResultFileName>\")\n",
    "        sys.exit(1)\n",
    "\n",
    "def read_input_file(input_file):\n",
    "    try:\n",
    "        data = pd.read_csv(input_file)\n",
    "        return data\n",
    "    except FileNotFoundError:\n",
    "        print(f\"Error: File '{input_file}' not found.\")\n",
    "        sys.exit(1)\n",
    "    except pd.errors.EmptyDataError:\n",
    "        print(f\"Error: File '{input_file}' is empty.\")\n",
    "        sys.exit(1)\n",
    "    except pd.errors.ParserError:\n",
    "        print(f\"Error: Unable to parse file '{input_file}'. Make sure it's a valid CSV file.\")\n",
    "        sys.exit(1)\n",
    "\n",
    "def validate_input_data(data, weights, impacts):\n",
    "    if len(data.columns) < 3:\n",
    "        print(\"Error: Input file must contain three or more columns.\")\n",
    "        sys.exit(1)\n",
    "\n",
    "    numeric_cols = data.iloc[:, 1:].apply(pd.to_numeric, errors='coerce').notnull().all()\n",
    "    if not numeric_cols.all():\n",
    "        print(\"Error: Columns from 2nd to last must contain numeric values only.\")\n",
    "        sys.exit(1)\n",
    "\n",
    "    if len(weights) != len(impacts) or len(weights) != len(data.columns) - 1:\n",
    "        print(\"Error: Number of weights, impacts, and columns (from 2nd to last) must be the same.\")\n",
    "        sys.exit(1)\n",
    "\n",
    "    if not all(impact in ['+', '-'] for impact in impacts):\n",
    "        print(\"Error: Impacts must be either '+' or '-'.\")\n",
    "        sys.exit(1)\n",
    "\n",
    "def save_result_file(result_file, data):\n",
    "    data.to_csv(result_file, index=False)\n",
    "\n",
    "def main():\n",
    "    check_input_parameters()\n",
    "\n",
    "    input_file = sys.argv[1]\n",
    "    weights = list(map(int, sys.argv[2].split(',')))\n",
    "    impacts = sys.argv[3].split(',')\n",
    "    result_file = sys.argv[4]\n",
    "\n",
    "    data = read_input_file(input_file)\n",
    "    validate_input_data(data, weights, impacts)\n",
    "\n",
    "    # Assume the Topsis Score is the sum of the product of weights and impacts for each row\n",
    "    topsis_score = (data.iloc[:, 1:] * weights).sum(axis=1)\n",
    "    data['Topsis Score'] = topsis_score\n",
    "\n",
    "    # Rank the rows based on the Topsis Score\n",
    "    data['Rank'] = data['Topsis Score'].rank(ascending=False)\n",
    "\n",
    "    save_result_file(result_file, data)\n",
    "\n",
    "if __name__ == \"__main__\":\n",
    "    main()\n"
   ]
  },
  {
   "cell_type": "code",
   "execution_count": null,
   "metadata": {},
   "outputs": [],
   "source": []
  }
 ],
 "metadata": {
  "kernelspec": {
   "display_name": "Python 3",
   "language": "python",
   "name": "python3"
  },
  "language_info": {
   "codemirror_mode": {
    "name": "ipython",
    "version": 3
   },
   "file_extension": ".py",
   "mimetype": "text/x-python",
   "name": "python",
   "nbconvert_exporter": "python",
   "pygments_lexer": "ipython3",
   "version": "3.11.5"
  }
 },
 "nbformat": 4,
 "nbformat_minor": 2
}
